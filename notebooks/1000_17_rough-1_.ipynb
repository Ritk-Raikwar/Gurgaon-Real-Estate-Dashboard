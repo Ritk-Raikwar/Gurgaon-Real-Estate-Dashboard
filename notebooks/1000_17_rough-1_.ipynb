{
 "cells": [
  {
   "cell_type": "code",
   "execution_count": 1,
   "id": "e519d5e7",
   "metadata": {},
   "outputs": [
    {
     "name": "stdout",
     "output_type": "stream",
     "text": [
      "Loading appartments.csv...\n",
      "Initial data cleaning complete.\n",
      "Extracting sector information...\n",
      "Successfully identified sectors. Found 56 unique sectors.\n",
      "\n",
      "Successfully created 'df_processed.pkl'.\n",
      "You can now proceed with the other preprocessing steps or run the Streamlit app.\n"
     ]
    }
   ],
   "source": [
    "import pandas as pd\n",
    "import re\n",
    "import joblib\n",
    "\n",
    "# --- Load the raw dataset ---\n",
    "print(\"Loading appartments.csv...\")\n",
    "try:\n",
    "    df = pd.read_csv('appartments.csv')\n",
    "except FileNotFoundError:\n",
    "    print(\"Error: 'appartments.csv' not found. Make sure it's in the same directory.\")\n",
    "    exit()\n",
    "\n",
    "# --- Basic Cleaning (as done in your notebook) ---\n",
    "# Drop a problematic row if it exists\n",
    "if 22 in df.index:\n",
    "    df = df.drop(22)\n",
    "# Reset index to ensure it's continuous\n",
    "df.reset_index(drop=True, inplace=True)\n",
    "print(\"Initial data cleaning complete.\")\n",
    "\n",
    "# --- Feature Engineering: Create the 'sector' column ---\n",
    "print(\"Extracting sector information...\")\n",
    "\n",
    "def get_sector(sub_name):\n",
    "    \"\"\"\n",
    "    Extracts the sector (e.g., 'Sector 113') from the PropertySubName string.\n",
    "    \"\"\"\n",
    "    if isinstance(sub_name, str):\n",
    "        # Search for the pattern 'Sector' followed by one or more digits\n",
    "        match = re.search(r'Sector \\d+', sub_name)\n",
    "        if match:\n",
    "            return match.group(0) # Return the matched string (e.g., \"Sector 113\")\n",
    "    return 'Unknown' # Return 'Unknown' if no match is found or input is not a string\n",
    "\n",
    "# Apply the function to create the new 'sector' column\n",
    "df['sector'] = df['PropertySubName'].apply(get_sector)\n",
    "\n",
    "print(f\"Successfully identified sectors. Found {df['sector'].nunique()} unique sectors.\")\n",
    "\n",
    "# --- Select and Save the Final DataFrame ---\n",
    "# The Streamlit app only needs a few columns to function.\n",
    "# We select these to keep the final file small and efficient.\n",
    "df_final_for_app = df[['PropertyName', 'PropertySubName', 'Link', 'sector']].copy()\n",
    "\n",
    "# Save the processed DataFrame using joblib\n",
    "output_filename = 'df_processed.pkl'\n",
    "joblib.dump(df_final_for_app, output_filename)\n",
    "\n",
    "print(f\"\\nSuccessfully created '{output_filename}'.\")\n",
    "print(\"You can now proceed with the other preprocessing steps or run the Streamlit app.\")\n",
    "\n"
   ]
  },
  {
   "cell_type": "code",
   "execution_count": null,
   "id": "205b91d9",
   "metadata": {},
   "outputs": [],
   "source": []
  }
 ],
 "metadata": {
  "kernelspec": {
   "display_name": "Python 3 (ipykernel)",
   "language": "python",
   "name": "python3"
  },
  "language_info": {
   "codemirror_mode": {
    "name": "ipython",
    "version": 3
   },
   "file_extension": ".py",
   "mimetype": "text/x-python",
   "name": "python",
   "nbconvert_exporter": "python",
   "pygments_lexer": "ipython3",
   "version": "3.11.5"
  }
 },
 "nbformat": 4,
 "nbformat_minor": 5
}
